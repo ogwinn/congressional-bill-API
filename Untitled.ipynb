{
 "cells": [
  {
   "cell_type": "markdown",
   "id": "97630d62-dc6e-44f6-b624-f9a7cbdbb326",
   "metadata": {},
   "source": [
    "# New Project"
   ]
  },
  {
   "cell_type": "markdown",
   "id": "d161e9d8-6cf4-47a7-9f10-0f66e2f4946e",
   "metadata": {},
   "source": [
    "## Setup"
   ]
  },
  {
   "cell_type": "markdown",
   "id": "e6946a6e-bc33-44f3-a1c1-efee1a37f564",
   "metadata": {},
   "source": [
    "### Iteration 0"
   ]
  },
  {
   "cell_type": "code",
   "execution_count": 11,
   "id": "f748201f-a63f-499f-95fc-2c8fc9d203e0",
   "metadata": {},
   "outputs": [
    {
     "name": "stdout",
     "output_type": "stream",
     "text": [
      "Saved metadata to house_bills_117th_congress.csv\n"
     ]
    }
   ],
   "source": [
    "import requests\n",
    "import pandas as pd\n",
    "import re\n",
    "\n",
    "# API Configuration\n",
    "API_KEY = \"EJrUQCHuJ0IahRmYL00NZmEFar04efTqfRWx1EUe\"  # Replace with your actual API key\n",
    "SEARCH_URL = \"https://api.govinfo.gov/search\"\n",
    "OUTPUT_FILE = \"house_bills_117th_congress.csv\"\n",
    "\n",
    "# Step 1: Fetch House Bills (H.R.) from 117th Congress\n",
    "def fetch_house_bills():\n",
    "    headers = {\"Content-Type\": \"application/json\"}\n",
    "    bills = []\n",
    "    offsetMark = \"*\"  # First request should use \"*\"\n",
    "\n",
    "    while True:\n",
    "        query_payload = {\n",
    "            \"query\": \"collection:BILLS congress:117 billtype:HR\",\n",
    "            \"offsetMark\": offsetMark,\n",
    "            \"pageSize\": 100,  # Number of results per request\n",
    "            \"sort\": \"dateDesc\",\n",
    "            \"format\": \"json\"\n",
    "        }\n",
    "\n",
    "        response = requests.post(\n",
    "            SEARCH_URL, json=query_payload, headers=headers, params={\"api_key\": API_KEY}\n",
    "        )\n",
    "\n",
    "        if response.status_code != 200:\n",
    "            print(f\"Failed to fetch data: {response.status_code}\")\n",
    "            print(response.text)  # Print API error details\n",
    "            return []\n",
    "\n",
    "        data = response.json()\n",
    "        bills.extend(data.get(\"results\", []))\n",
    "\n",
    "        # Update offsetMark for next page\n",
    "        offsetMark = data.get(\"offsetMark\", None)\n",
    "\n",
    "        # Stop if there are no more pages\n",
    "        if not offsetMark:\n",
    "            break\n",
    "\n",
    "    return bills\n",
    "\n",
    "# Step 2: Extract metadata from the API response\n",
    "def extract_metadata(bills):\n",
    "    extracted_data = []\n",
    "    \n",
    "    for bill in bills:\n",
    "        package_id = bill.get(\"packageId\", \"\")\n",
    "        title = bill.get(\"title\", \"\")\n",
    "        last_modified = bill.get(\"lastModified\", \"\")\n",
    "        result_link = bill.get(\"resultLink\", \"\")\n",
    "        \n",
    "        # Extract Bill Number from packageId (e.g., \"BILLS-117hr99ih\" -> \"HR 99\")\n",
    "        match = re.search(r\"117hr(\\d+)\", package_id)\n",
    "        bill_number = f\"HR {match.group(1)}\" if match else \"Unknown\"\n",
    "\n",
    "        # Extract download links\n",
    "        download_links = bill.get(\"download\", {})\n",
    "        pdf_link = download_links.get(\"pdfLink\", \"\")\n",
    "        txt_link = download_links.get(\"txtLink\", \"\")\n",
    "        xml_link = download_links.get(\"xmlLink\", \"\")\n",
    "\n",
    "        extracted_data.append({\n",
    "            \"Congress Number\": 117,\n",
    "            \"Bill Number\": bill_number,\n",
    "            \"Short Title\": title,\n",
    "            \"Last Action Date\": last_modified,\n",
    "            \"Bill Summary Link\": result_link,\n",
    "            \"PDF Link\": pdf_link,\n",
    "            \"TXT Link\": txt_link,\n",
    "            \"XML Link\": xml_link\n",
    "        })\n",
    "    \n",
    "    return extracted_data\n",
    "\n",
    "# Main Execution\n",
    "bills = fetch_house_bills()\n",
    "if not bills:\n",
    "    print(\"No bills found or error in API call.\")\n",
    "else:\n",
    "    metadata = extract_metadata(bills)\n",
    "    \n",
    "    # Save to CSV\n",
    "    df = pd.DataFrame(metadata)\n",
    "    df.to_csv(OUTPUT_FILE, index=False)\n",
    "\n",
    "    print(f\"Saved metadata to {OUTPUT_FILE}\")\n"
   ]
  },
  {
   "cell_type": "markdown",
   "id": "5fa8097e-3141-4fd0-9f4f-ef3568718893",
   "metadata": {},
   "source": [
    "### Iteration 1"
   ]
  },
  {
   "cell_type": "code",
   "execution_count": 10,
   "id": "920becbe-9873-434e-ba25-2e0b9e9aaa99",
   "metadata": {
    "scrolled": true
   },
   "outputs": [
    {
     "name": "stdout",
     "output_type": "stream",
     "text": [
      "{\n",
      "    \"results\": [\n",
      "        {\n",
      "            \"title\": \"Citizen Legislature Anti-Corruption Reform of Congress Act; CLEAN Congress Act\",\n",
      "            \"packageId\": \"BILLS-117hr99ih\",\n",
      "            \"granuleId\": null,\n",
      "            \"lastModified\": \"2024-06-06T19:38:38Z\",\n",
      "            \"governmentAuthor\": [\n",
      "                \"Congress\",\n",
      "                \"House of Representatives\"\n",
      "            ],\n",
      "            \"dateIssued\": \"2021-01-04\",\n",
      "            \"collectionCode\": \"BILLS\",\n",
      "            \"resultLink\": \"https://api.govinfo.gov/packages/BILLS-117hr99ih/summary\",\n",
      "            \"dateIngested\": \"2021-01-20\",\n",
      "            \"download\": {\n",
      "                \"premisLink\": \"https://api.govinfo.gov/packages/BILLS-117hr99ih/premis\",\n",
      "                \"xmlLink\": \"https://api.govinfo.gov/packages/BILLS-117hr99ih/xml\",\n",
      "                \"txtLink\": \"https://api.govinfo.gov/packages/BILLS-117hr99ih/htm\",\n",
      "                \"zipLink\": \"https://api.govinfo.gov/packages/BILLS-117hr99ih/zip\",\n",
      "                \"modsLink\": \"https://api.govinfo.gov/packages/BILLS-117hr99ih/mods\",\n",
      "                \"pdfLink\": \"https://api.govinfo.gov/packages/BILLS-117hr99ih/pdf\"\n",
      "            },\n",
      "            \"relatedLink\": \"https://api.govinfo.gov/related/BILLS-117hr99ih\"\n",
      "        }\n",
      "    ],\n",
      "    \"offsetMark\": \"AoEvQklMTFMtMTE3aHI5OWlo\",\n",
      "    \"count\": 11931\n",
      "}\n"
     ]
    }
   ],
   "source": [
    "import requests\n",
    "import json\n",
    "\n",
    "# API Configuration\n",
    "API_KEY = \"EJrUQCHuJ0IahRmYL00NZmEFar04efTqfRWx1EUe\"  # Replace with your actual API key\n",
    "SEARCH_URL = \"https://api.govinfo.gov/search\"\n",
    "\n",
    "# Fetch a single bill for debugging\n",
    "def fetch_single_bill():\n",
    "    headers = {\"Content-Type\": \"application/json\"}\n",
    "    query_payload = {\n",
    "        \"query\": \"collection:BILLS congress:117 billtype:HR\",\n",
    "        \"offsetMark\": \"*\",  # First request should use \"*\"\n",
    "        \"pageSize\": 1,  # Fetch only one bill for inspection\n",
    "        \"sort\": \"dateDesc\",\n",
    "        \"format\": \"json\"\n",
    "    }\n",
    "\n",
    "    response = requests.post(\n",
    "        SEARCH_URL, json=query_payload, headers=headers, params={\"api_key\": API_KEY}\n",
    "    )\n",
    "\n",
    "    if response.status_code != 200:\n",
    "        print(f\"Failed to fetch data: {response.status_code}\")\n",
    "        print(response.text)  # Print API error details\n",
    "        return None\n",
    "\n",
    "    return response.json()\n",
    "\n",
    "# Run the request and print the raw response\n",
    "raw_api_response = fetch_single_bill()\n",
    "print(json.dumps(raw_api_response, indent=4))  # Pretty-print JSON\n"
   ]
  }
 ],
 "metadata": {
  "kernelspec": {
   "display_name": "Python 3 (ipykernel)",
   "language": "python",
   "name": "python3"
  },
  "language_info": {
   "codemirror_mode": {
    "name": "ipython",
    "version": 3
   },
   "file_extension": ".py",
   "mimetype": "text/x-python",
   "name": "python",
   "nbconvert_exporter": "python",
   "pygments_lexer": "ipython3",
   "version": "3.10.0"
  }
 },
 "nbformat": 4,
 "nbformat_minor": 5
}
